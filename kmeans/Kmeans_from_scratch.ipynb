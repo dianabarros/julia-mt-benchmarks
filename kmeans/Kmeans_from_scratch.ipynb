{
  "nbformat": 4,
  "nbformat_minor": 0,
  "metadata": {
    "colab": {
      "name": "Kmeans_from_scratch.ipynb",
      "provenance": [],
      "collapsed_sections": []
    },
    "kernelspec": {
      "display_name": "Python 3",
      "name": "python3"
    },
    "language_info": {
      "name": "python"
    }
  },
  "cells": [
    {
      "cell_type": "code",
      "metadata": {
        "id": "B9fgr0GRTH79"
      },
      "source": [
        "import numpy as np\n",
        "import pandas as pd\n",
        "import matplotlib.pyplot as plt\n",
        "import seaborn as sns\n",
        "import warnings\n",
        "warnings.filterwarnings('ignore')"
      ],
      "execution_count": null,
      "outputs": []
    },
    {
      "cell_type": "code",
      "metadata": {
        "colab": {
          "base_uri": "https://localhost:8080/",
          "height": 257
        },
        "id": "Xb-6rO8GTUJg",
        "outputId": "9c0dbc11-afe2-4a38-800d-90b5c562fa76"
      },
      "source": [
        "data = pd.read_csv('/content/drive/MyDrive/Datasets/clustering.csv')\n",
        "data.head()"
      ],
      "execution_count": null,
      "outputs": [
        {
          "output_type": "execute_result",
          "data": {
            "text/html": [
              "<div>\n",
              "<style scoped>\n",
              "    .dataframe tbody tr th:only-of-type {\n",
              "        vertical-align: middle;\n",
              "    }\n",
              "\n",
              "    .dataframe tbody tr th {\n",
              "        vertical-align: top;\n",
              "    }\n",
              "\n",
              "    .dataframe thead th {\n",
              "        text-align: right;\n",
              "    }\n",
              "</style>\n",
              "<table border=\"1\" class=\"dataframe\">\n",
              "  <thead>\n",
              "    <tr style=\"text-align: right;\">\n",
              "      <th></th>\n",
              "      <th>Loan_ID</th>\n",
              "      <th>Gender</th>\n",
              "      <th>Married</th>\n",
              "      <th>Dependents</th>\n",
              "      <th>Education</th>\n",
              "      <th>Self_Employed</th>\n",
              "      <th>ApplicantIncome</th>\n",
              "      <th>CoapplicantIncome</th>\n",
              "      <th>LoanAmount</th>\n",
              "      <th>Loan_Amount_Term</th>\n",
              "      <th>Credit_History</th>\n",
              "      <th>Property_Area</th>\n",
              "      <th>Loan_Status</th>\n",
              "    </tr>\n",
              "  </thead>\n",
              "  <tbody>\n",
              "    <tr>\n",
              "      <th>0</th>\n",
              "      <td>LP001003</td>\n",
              "      <td>Male</td>\n",
              "      <td>Yes</td>\n",
              "      <td>1</td>\n",
              "      <td>Graduate</td>\n",
              "      <td>No</td>\n",
              "      <td>4583</td>\n",
              "      <td>1508.0</td>\n",
              "      <td>128.0</td>\n",
              "      <td>360.0</td>\n",
              "      <td>1.0</td>\n",
              "      <td>Rural</td>\n",
              "      <td>N</td>\n",
              "    </tr>\n",
              "    <tr>\n",
              "      <th>1</th>\n",
              "      <td>LP001005</td>\n",
              "      <td>Male</td>\n",
              "      <td>Yes</td>\n",
              "      <td>0</td>\n",
              "      <td>Graduate</td>\n",
              "      <td>Yes</td>\n",
              "      <td>3000</td>\n",
              "      <td>0.0</td>\n",
              "      <td>66.0</td>\n",
              "      <td>360.0</td>\n",
              "      <td>1.0</td>\n",
              "      <td>Urban</td>\n",
              "      <td>Y</td>\n",
              "    </tr>\n",
              "    <tr>\n",
              "      <th>2</th>\n",
              "      <td>LP001006</td>\n",
              "      <td>Male</td>\n",
              "      <td>Yes</td>\n",
              "      <td>0</td>\n",
              "      <td>Not Graduate</td>\n",
              "      <td>No</td>\n",
              "      <td>2583</td>\n",
              "      <td>2358.0</td>\n",
              "      <td>120.0</td>\n",
              "      <td>360.0</td>\n",
              "      <td>1.0</td>\n",
              "      <td>Urban</td>\n",
              "      <td>Y</td>\n",
              "    </tr>\n",
              "    <tr>\n",
              "      <th>3</th>\n",
              "      <td>LP001008</td>\n",
              "      <td>Male</td>\n",
              "      <td>No</td>\n",
              "      <td>0</td>\n",
              "      <td>Graduate</td>\n",
              "      <td>No</td>\n",
              "      <td>6000</td>\n",
              "      <td>0.0</td>\n",
              "      <td>141.0</td>\n",
              "      <td>360.0</td>\n",
              "      <td>1.0</td>\n",
              "      <td>Urban</td>\n",
              "      <td>Y</td>\n",
              "    </tr>\n",
              "    <tr>\n",
              "      <th>4</th>\n",
              "      <td>LP001013</td>\n",
              "      <td>Male</td>\n",
              "      <td>Yes</td>\n",
              "      <td>0</td>\n",
              "      <td>Not Graduate</td>\n",
              "      <td>No</td>\n",
              "      <td>2333</td>\n",
              "      <td>1516.0</td>\n",
              "      <td>95.0</td>\n",
              "      <td>360.0</td>\n",
              "      <td>1.0</td>\n",
              "      <td>Urban</td>\n",
              "      <td>Y</td>\n",
              "    </tr>\n",
              "  </tbody>\n",
              "</table>\n",
              "</div>"
            ],
            "text/plain": [
              "    Loan_ID Gender Married  ... Credit_History Property_Area Loan_Status\n",
              "0  LP001003   Male     Yes  ...            1.0         Rural           N\n",
              "1  LP001005   Male     Yes  ...            1.0         Urban           Y\n",
              "2  LP001006   Male     Yes  ...            1.0         Urban           Y\n",
              "3  LP001008   Male      No  ...            1.0         Urban           Y\n",
              "4  LP001013   Male     Yes  ...            1.0         Urban           Y\n",
              "\n",
              "[5 rows x 13 columns]"
            ]
          },
          "metadata": {
            "tags": []
          },
          "execution_count": 2
        }
      ]
    },
    {
      "cell_type": "code",
      "metadata": {
        "colab": {
          "base_uri": "https://localhost:8080/",
          "height": 110
        },
        "id": "nexwab5YTofz",
        "outputId": "d9f99810-4d1f-4a3e-8231-26bc93829dd4"
      },
      "source": [
        "data = data.loc[:, ['ApplicantIncome', 'LoanAmount']]\n",
        "data.head(2)"
      ],
      "execution_count": null,
      "outputs": [
        {
          "output_type": "execute_result",
          "data": {
            "text/html": [
              "<div>\n",
              "<style scoped>\n",
              "    .dataframe tbody tr th:only-of-type {\n",
              "        vertical-align: middle;\n",
              "    }\n",
              "\n",
              "    .dataframe tbody tr th {\n",
              "        vertical-align: top;\n",
              "    }\n",
              "\n",
              "    .dataframe thead th {\n",
              "        text-align: right;\n",
              "    }\n",
              "</style>\n",
              "<table border=\"1\" class=\"dataframe\">\n",
              "  <thead>\n",
              "    <tr style=\"text-align: right;\">\n",
              "      <th></th>\n",
              "      <th>ApplicantIncome</th>\n",
              "      <th>LoanAmount</th>\n",
              "    </tr>\n",
              "  </thead>\n",
              "  <tbody>\n",
              "    <tr>\n",
              "      <th>0</th>\n",
              "      <td>4583</td>\n",
              "      <td>128.0</td>\n",
              "    </tr>\n",
              "    <tr>\n",
              "      <th>1</th>\n",
              "      <td>3000</td>\n",
              "      <td>66.0</td>\n",
              "    </tr>\n",
              "  </tbody>\n",
              "</table>\n",
              "</div>"
            ],
            "text/plain": [
              "   ApplicantIncome  LoanAmount\n",
              "0             4583       128.0\n",
              "1             3000        66.0"
            ]
          },
          "metadata": {
            "tags": []
          },
          "execution_count": 3
        }
      ]
    },
    {
      "cell_type": "code",
      "metadata": {
        "colab": {
          "base_uri": "https://localhost:8080/"
        },
        "id": "0q2TF4mHgr0A",
        "outputId": "49cf9405-6f31-4028-ad11-7e9ee5f4a864"
      },
      "source": [
        "X = data.values\n",
        "X[:5]"
      ],
      "execution_count": null,
      "outputs": [
        {
          "output_type": "execute_result",
          "data": {
            "text/plain": [
              "array([[4583.,  128.],\n",
              "       [3000.,   66.],\n",
              "       [2583.,  120.],\n",
              "       [6000.,  141.],\n",
              "       [2333.,   95.]])"
            ]
          },
          "metadata": {
            "tags": []
          },
          "execution_count": 4
        }
      ]
    },
    {
      "cell_type": "code",
      "metadata": {
        "colab": {
          "base_uri": "https://localhost:8080/",
          "height": 279
        },
        "id": "uvP_VzvXUM_l",
        "outputId": "0cddf0ca-eb23-4cb2-fb83-c8da48141eba"
      },
      "source": [
        "sns.scatterplot(X[:,0], X[:, 1])\n",
        "\n",
        "plt.xlabel('Income')\n",
        "plt.ylabel('Loan')\n",
        "plt.show()"
      ],
      "execution_count": null,
      "outputs": [
        {
          "output_type": "display_data",
          "data": {
            "image/png": "[encoded data removed]",
            "text/plain": [
              "<Figure size 432x288 with 1 Axes>"
            ]
          },
          "metadata": {
            "tags": [],
            "needs_background": "light"
          }
        }
      ]
    },
    {
      "cell_type": "markdown",
      "metadata": {
        "id": "H8g_fAVpYadu"
      },
      "source": [
        "## K-Means"
      ]
    },
    {
      "cell_type": "markdown",
      "metadata": {
        "id": "fu7y5YGOqlGE"
      },
      "source": [
        "### WCSS"
      ]
    },
    {
      "cell_type": "code",
      "metadata": {
        "id": "-SCvmqLvgypa"
      },
      "source": [
        "def calculate_cost(X, centroids, cluster):\n",
        "  sum = 0\n",
        "  for i, val in enumerate(X):\n",
        "      sum += np.sqrt((centroids[int(cluster[i]), 0]-val[0])**2 + (centroids[int(cluster[i]), 1]-val[1])**2)\n",
        "  \n",
        "  return sum"
      ],
      "execution_count": null,
      "outputs": []
    },
    {
      "cell_type": "code",
      "metadata": {
        "colab": {
          "base_uri": "https://localhost:8080/"
        },
        "id": "Xt0TviMpATgf",
        "outputId": "fda998de-9411-4fc8-bd6f-6f840e011092"
      },
      "source": [
        "len(X)"
      ],
      "execution_count": null,
      "outputs": [
        {
          "output_type": "execute_result",
          "data": {
            "text/plain": [
              "381"
            ]
          },
          "metadata": {
            "tags": []
          },
          "execution_count": 28
        }
      ]
    },
    {
      "cell_type": "code",
      "metadata": {
        "id": "bbgIf_X2pA8n"
      },
      "source": [
        "import random\n",
        "def kmeans(X, k):\n",
        "  \n",
        "  diff = 1\n",
        "  cluster = np.zeros(X.shape[0])\n",
        "\n",
        "  # select k random centroids\n",
        "  random_indices = np.random.choice(len(X), size=k, replace=False)\n",
        "  centroids = X[random_indices, :]\n",
        "\n",
        "  while diff:\n",
        "\n",
        "    # for each observation\n",
        "    for i, row in enumerate(X):\n",
        "\n",
        "      mn_dist = float('inf')\n",
        "      # dist of the point from all centroids\n",
        "      for idx, centroid in enumerate(centroids):\n",
        "        d = np.sqrt((centroid[0]-row[0])**2 + (centroid[1]-row[1])**2)\n",
        "\n",
        "        # store closest centroid \n",
        "        if mn_dist > d:\n",
        "          mn_dist = d\n",
        "          cluster[i] = idx\n",
        "\n",
        "    new_centroids = pd.DataFrame(X).groupby(by=cluster).mean().values\n",
        "\n",
        "    # if centroids are same then leave\n",
        "    if np.count_nonzero(centroids-new_centroids) == 0:\n",
        "      diff = 0\n",
        "    else:\n",
        "      centroids = new_centroids\n",
        "  return centroids, cluster  "
      ],
      "execution_count": null,
      "outputs": []
    },
    {
      "cell_type": "markdown",
      "metadata": {
        "id": "1TyivyEqqq8X"
      },
      "source": [
        "### Find K value using Elbow Method"
      ]
    },
    {
      "cell_type": "code",
      "metadata": {
        "id": "KmHa9k5ARcyb"
      },
      "source": [
        "cost_list = []\n",
        "\n",
        "for k in range(1, 10):\n",
        "  \n",
        "  centroids, cluster = kmeans(X, k)\n",
        "  \n",
        "  # WCSS (Within cluster sum of square)\n",
        "  cost = calculate_cost(X, centroids, cluster)\n",
        "  cost_list.append(cost)\n"
      ],
      "execution_count": null,
      "outputs": []
    },
    {
      "cell_type": "code",
      "metadata": {
        "colab": {
          "base_uri": "https://localhost:8080/",
          "height": 279
        },
        "id": "qQRWoepyioMG",
        "outputId": "87255178-c6a0-4de0-b30f-604cc6ec4728"
      },
      "source": [
        "sns.lineplot(x=range(1,10), y=cost_list, marker='o')\n",
        "plt.xlabel('k')\n",
        "plt.ylabel('WCSS')\n",
        "plt.show()"
      ],
      "execution_count": null,
      "outputs": [
        {
          "output_type": "display_data",
          "data": {
            "image/png": "[encoded data removed]",
            "text/plain": [
              "<Figure size 432x288 with 1 Axes>"
            ]
          },
          "metadata": {
            "tags": [],
            "needs_background": "light"
          }
        }
      ]
    },
    {
      "cell_type": "markdown",
      "metadata": {
        "id": "XVVx6Z21q2TT"
      },
      "source": [
        "WCSS doesn't reduces much after k=4, so make 4 clusters"
      ]
    },
    {
      "cell_type": "code",
      "metadata": {
        "id": "bfr41sNYlYgO"
      },
      "source": [
        "k = 4\n",
        "centroids, cluster = kmeans(X, k)"
      ],
      "execution_count": null,
      "outputs": []
    },
    {
      "cell_type": "code",
      "metadata": {
        "colab": {
          "base_uri": "https://localhost:8080/",
          "height": 279
        },
        "id": "5_JxeS2uoZin",
        "outputId": "f5593b4c-515e-4de0-f4e0-13757a2bc5b9"
      },
      "source": [
        "sns.scatterplot(X[:,0], X[:, 1], hue=cluster)\n",
        "sns.scatterplot(centroids[:,0], centroids[:, 1], s=100, color='y')\n",
        "\n",
        "plt.xlabel('Income')\n",
        "plt.ylabel('Loan')\n",
        "plt.show()"
      ],
      "execution_count": null,
      "outputs": [
        {
          "output_type": "display_data",
          "data": {
            "image/png": "[encoded data removed]",
            "text/plain": [
              "<Figure size 432x288 with 1 Axes>"
            ]
          },
          "metadata": {
            "tags": [],
            "needs_background": "light"
          }
        }
      ]
    },
    {
      "cell_type": "code",
      "metadata": {
        "id": "osRLoLVdqKgT"
      },
      "source": [
        ""
      ],
      "execution_count": null,
      "outputs": []
    }
  ]
}